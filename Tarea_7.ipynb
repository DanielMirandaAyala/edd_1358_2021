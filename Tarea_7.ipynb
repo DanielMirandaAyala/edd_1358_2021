{
  "nbformat": 4,
  "nbformat_minor": 0,
  "metadata": {
    "colab": {
      "name": "Untitled27.ipynb",
      "provenance": [],
      "authorship_tag": "ABX9TyP8rt+zt8cTmBl5Y7uDugWq",
      "include_colab_link": true
    },
    "kernelspec": {
      "name": "python3",
      "display_name": "Python 3"
    }
  },
  "cells": [
    {
      "cell_type": "markdown",
      "metadata": {
        "id": "view-in-github",
        "colab_type": "text"
      },
      "source": [
        "<a href=\"https://colab.research.google.com/github/DanielMirandaAyala/edd_1358_2021/blob/edd_1358_2021/Tarea_7.ipynb\" target=\"_parent\"><img src=\"https://colab.research.google.com/assets/colab-badge.svg\" alt=\"Open In Colab\"/></a>"
      ]
    },
    {
      "cell_type": "code",
      "metadata": {
        "colab": {
          "base_uri": "https://localhost:8080/"
        },
        "id": "Yvv0kwirIHxk",
        "outputId": "d3fe408f-93e1-482d-b23f-0df7ebcfdbd5"
      },
      "source": [
        "class Stack:\n",
        "    def __init__( self ):\n",
        "        self.__data = []\n",
        "        self.__size = 0\n",
        "\n",
        "    def pop( self ):\n",
        "        self.__size -=1\n",
        "        return self.__data.pop()\n",
        "\n",
        "    def get_size( self ):\n",
        "        return self.__size\n",
        "\n",
        "    def peek( self ):\n",
        "        return self.__data[-1]\n",
        "\n",
        "    def push (self, value ):\n",
        "        self.__size +=1\n",
        "        return self.__data.append( value )\n",
        "\n",
        "    def to_string( self ):\n",
        "        print(\"-------\")\n",
        "        for dato in self.__data[ : :-1]:\n",
        "            print( f\"| { dato } |\")\n",
        "        print(\"-------\")\n",
        "\n",
        "cadena =\"()()))))\"\n",
        "pila = Stack()\n",
        "pila.push(\"#\")\n",
        "\n",
        "for elem in cadena:\n",
        "    if elem == '(':\n",
        "        pila.push(\"*\")\n",
        "    elif elem == \")\" and pila.get_size() != 0:\n",
        "        pila.pop()\n",
        "        print(\"Balanceada\")\n",
        "    elif pila.get_size() == 0 and elem == \")\":\n",
        "        print(\"Desbalanceada\")\n",
        "    else:\n",
        "        pass\n",
        "if pila.get_size() != 0 :\n",
        "    if pila.peek() == \"#\":\n",
        "        print(\"Toda la cadena está balanceada\")\n",
        "    else:\n",
        "        print(\"Toda la cadena no está balanceada\")\n"
      ],
      "execution_count": 73,
      "outputs": [
        {
          "output_type": "stream",
          "text": [
            "Balanceada\n",
            "Balanceada\n",
            "Balanceada\n",
            "Desbalanceada\n",
            "Desbalanceada\n",
            "Desbalanceada\n"
          ],
          "name": "stdout"
        }
      ]
    }
  ]
}