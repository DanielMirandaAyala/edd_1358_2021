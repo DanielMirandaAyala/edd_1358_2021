{
  "nbformat": 4,
  "nbformat_minor": 0,
  "metadata": {
    "colab": {
      "name": "Untitled1.ipynb",
      "provenance": [],
      "authorship_tag": "ABX9TyPL9tXQvoWQxaGl3ZNt/OaZ",
      "include_colab_link": true
    },
    "kernelspec": {
      "name": "python3",
      "display_name": "Python 3"
    }
  },
  "cells": [
    {
      "cell_type": "markdown",
      "metadata": {
        "id": "view-in-github",
        "colab_type": "text"
      },
      "source": [
        "<a href=\"https://colab.research.google.com/github/DanielMirandaAyala/edd_1358_2021/blob/edd_1358_2021/5_Octubre_2020.ipynb\" target=\"_parent\"><img src=\"https://colab.research.google.com/assets/colab-badge.svg\" alt=\"Open In Colab\"/></a>"
      ]
    },
    {
      "cell_type": "code",
      "metadata": {
        "id": "dWSXgkCXSF8q",
        "outputId": "24680cb4-b750-495e-bb4a-2c3c4e271a70",
        "colab": {
          "base_uri": "https://localhost:8080/",
          "height": 70
        }
      },
      "source": [
        "#Declaración de variables\n",
        "precio = 12.5\n",
        "cantidad = 2\n",
        "existencia = True\n",
        "\n",
        "#precio de los cheetos es $12.5 y quiero 2, hay?\n",
        "print(\"El precio de los cheetos es:\", precio, \"y quiero\", cantidad, \"hay?\", existencia)\n",
        "\n",
        "#format() de la clase String, se puede colocar en el orden deseado si se coloca la numeración que corresponde a cada valor empezando desde el 0\n",
        "print(\"El precio de los cheetos es {} y quiero {}, hay: {}\".format(precio, cantidad, existencia))\n",
        "\n",
        "#operador f\"\"\n",
        "print(f\"El precio de los cheetos es {precio} y quiero {cantidad}, hay: {existencia}\")"
      ],
      "execution_count": 3,
      "outputs": [
        {
          "output_type": "stream",
          "text": [
            "El precio de los cheetos es: 12.5 y quiero 2 hay? True\n",
            "El precio de los cheetos es 12.5 y quiero 2, hay: True\n",
            "El precio de los cheetos es 12.5 y quiero 2, hay: True\n"
          ],
          "name": "stdout"
        }
      ]
    },
    {
      "cell_type": "markdown",
      "metadata": {
        "id": "SqbZ9eWaYMjd"
      },
      "source": [
        "#Listas\n",
        "\n",
        "declaración[]\n",
        "\n",
        "selector[]\n",
        "\n",
        "No mutable\n",
        "\n",
        "#Tuplas\n",
        "\n",
        "declaración[]\n",
        "\n",
        "selector[]\n",
        "\n",
        "No mutable\n",
        "\n",
        "#diccionarios\n",
        "\n",
        "Conjunto de datos en pares de llave:valor\n",
        "\n",
        "Son muebles\n",
        "\n",
        "Equivalente a JSON\n",
        "\n",
        "#conjuntos\n",
        "\n",
        "Grupo de elementos con al teoría de conjuntos\n",
        "\n",
        "Uniones y operaciones de conjuntos\n",
        "\n"
      ]
    },
    {
      "cell_type": "code",
      "metadata": {
        "id": "MnkRdQHaZbER"
      },
      "source": [
        "# Listas\n",
        "materias = [\"CyP\",\"DAA\",\"EDD\",\"IS\",\"POO\"]\n",
        "print(materias)\n",
        "print(materias[2])\n",
        "print(materias[-1])\n",
        "print(materias[4])\n",
        "print(materias[::-1])\n",
        "\n",
        "fecha = \"05/Octubre/2020\"\n",
        "lista_fecha = fecha.split(\"/\")\n",
        "print(lista_fecha)\n",
        "\n",
        "# Crear un string a partir de una lista\n",
        "lista_hora = [\"15\",\"33\",\"45\"]\n",
        "hora = \":\".join(lista_hora)\n",
        "print(hora)\n",
        "\n",
        "print(\"-------------\")\n",
        "print(materias)\n",
        "print(lista_fecha)\n",
        "print(lista_hora)\n",
        "\n",
        "materias[0] = \"Computadoras y programacion\"\n",
        "print(materias)\n",
        "\n",
        "# Agregar\n",
        "materias.append(\"Calidad\")\n",
        "print(materias)\n",
        "materias.insert(2,\"Emprendimiento\")\n",
        "print(materias)\n",
        "materia = materias.pop()\n",
        "print(materia)\n",
        "print(materias)\n",
        "\n",
        "#cVaciar lista\n",
        "materias.clear\n",
        "print(materias)\n",
        "\n",
        "# Slicing\n",
        "print(\"Slicing\")\n",
        "numeros = [0,1,2,3,4,5,6,7,8,9,10]\n",
        "print(numeros)\n",
        "\n",
        "# Sustituir un segemnto con un slicing\n",
        "numeros[4:9:1] = [-2]\n",
        "print(numeros)\n"
      ],
      "execution_count": null,
      "outputs": []
    },
    {
      "cell_type": "code",
      "metadata": {
        "id": "kK99GbrJiZ3-"
      },
      "source": [
        "autos = [\"Hazda\",\"Honda\",\"Akura\",\"Ford\",\"VW\"]\n",
        "telefonos = [\"IPhone\",\"Huawei\",\"Xiaomi\",\"ALcatel\"]\n",
        "sistemas_operativos = [\"WIndows\",\"Linux\",\"Android\",\"iOs\",\"MacOs\"]\n",
        "\n",
        "lista_2d = [autos,telefonos,sistemas_operativos]\n",
        "print(lista_2d)"
      ],
      "execution_count": null,
      "outputs": []
    }
  ]
}