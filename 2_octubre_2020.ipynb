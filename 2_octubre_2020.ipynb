{
  "nbformat": 4,
  "nbformat_minor": 0,
  "metadata": {
    "colab": {
      "name": "Untitled0.ipynb",
      "provenance": [],
      "authorship_tag": "ABX9TyNSmYXv2cK3yjmU6TYuNjq7",
      "include_colab_link": true
    },
    "kernelspec": {
      "name": "python3",
      "display_name": "Python 3"
    }
  },
  "cells": [
    {
      "cell_type": "markdown",
      "metadata": {
        "id": "view-in-github",
        "colab_type": "text"
      },
      "source": [
        "<a href=\"https://colab.research.google.com/github/DanielMirandaAyala/edd_1358_2021/blob/edd_1358_2021/2_octubre_2020.ipynb\" target=\"_parent\"><img src=\"https://colab.research.google.com/assets/colab-badge.svg\" alt=\"Open In Colab\"/></a>"
      ]
    },
    {
      "cell_type": "code",
      "metadata": {
        "id": "oaOhKdGI1gyU",
        "outputId": "69227cf8-1460-416d-828f-224c49bef39c",
        "colab": {
          "base_uri": "https://localhost:8080/",
          "height": 102
        }
      },
      "source": [
        "#String pueden emprear comillas dobles, simples o triples comillas dobles ('',\"\",\"\"\" \"\"\"\"\")\n",
        "universidad = \"     universidad     nacional     autonoma     de     mexico\"\n",
        "print(universidad)\n",
        "\n",
        "#Cuando es una sola palabra solo se usan las comillas simples\n",
        "carrera = 'ico'\n",
        "area = 'software'\n",
        "division = \"division de las ciencias fisico matematicas\"\n",
        "\n",
        "#Se usan triples comillas cuando el string ocupa varios renglones\n",
        "frase = \"\"\"Si funciona, \n",
        "no lo arregles\"\"\"\n",
        "\n",
        "print(carrera, area)\n",
        "print(division)\n",
        "print(frase)\n"
      ],
      "execution_count": 3,
      "outputs": [
        {
          "output_type": "stream",
          "text": [
            "     universidad     nacional     autonoma     de     mexico\n",
            "ico software\n",
            "division de las ciencias fisico matematicas\n",
            "Si funciona, \n",
            "no lo arregles\n"
          ],
          "name": "stdout"
        }
      ]
    },
    {
      "cell_type": "code",
      "metadata": {
        "id": "dh_2H4LJ52op",
        "outputId": "44925801-0913-4e96-d69d-0689acc348a9",
        "colab": {
          "base_uri": "https://localhost:8080/",
          "height": 221
        }
      },
      "source": [
        "#Colocar todo el texto en mayúsculas\n",
        "print(universidad.upper())\n",
        "\n",
        "#Imprimir el texto\n",
        "print(universidad)\n",
        "\n",
        "#Colocar mayúsculas en las primeras letras\n",
        "print(universidad.title())\n",
        "\n",
        "#Eliminar espacios a la derecha e izquierda\n",
        "universidad = universidad.strip()\n",
        "print(universidad)\n",
        "lista = universidad.split(\"  \")\n",
        "print(lista)\n",
        "nueva = \"\"\n",
        "for l in lista:\n",
        "  if len(l) > 0:\n",
        "      nueva += l + \" \"\n",
        "print(nueva)\n",
        "\n",
        "numeros = \"1,2,34,56,100\"\n",
        "\n",
        "separados = numeros.split(\",\")\n",
        "print(separados)\n",
        "numeros_int = []\n",
        "for num in separados:\n",
        "  numeros_int.append(int(num))\n",
        "\n",
        "print(numeros_int)\n",
        "print(nueva)\n",
        "print(nueva.index(\"na\"))\n",
        "\n",
        "print(nueva.replace(' ', '_'))\n",
        "print(nueva)\n",
        "\n",
        "\n",
        "\n"
      ],
      "execution_count": 22,
      "outputs": [
        {
          "output_type": "stream",
          "text": [
            "UNIVERSIDAD     NACIONAL     AUTONOMA     DE     MEXICO\n",
            "universidad     nacional     autonoma     de     mexico\n",
            "Universidad     Nacional     Autonoma     De     Mexico\n",
            "universidad     nacional     autonoma     de     mexico\n",
            "['universidad', '', ' nacional', '', ' autonoma', '', ' de', '', ' mexico']\n",
            "universidad  nacional  autonoma  de  mexico \n",
            "['1', '2', '34', '56', '100']\n",
            "[1, 2, 34, 56, 100]\n",
            "universidad  nacional  autonoma  de  mexico \n",
            "13\n",
            "universidad__nacional__autonoma__de__mexico_\n",
            "universidad  nacional  autonoma  de  mexico \n"
          ],
          "name": "stdout"
        }
      ]
    },
    {
      "cell_type": "markdown",
      "metadata": {
        "id": "1PjQjTG83GrB"
      },
      "source": [
        "# Tipos de Datos\n",
        "-String = str\n",
        "\n",
        "Guarda una letra, palabra o frase en una variable\n",
        "\n",
        "-Int = int\n",
        "\n",
        "Guarda un número entero en una variable\n",
        "\n",
        "-Numero Flotante = float\n",
        "\n",
        "Guarda un valor flotante\n",
        "\n",
        "-Logico = bool\n",
        "\n",
        "Solo puede gue¿ardad dos valores: Verdadero o falso\n",
        "\n",
        "False: bool(0)\n",
        "\n",
        "True: bool (1)\n",
        "\n",
        "-Numero Complejo = complex\n",
        "\n",
        "Dato de número complejo\n",
        "\n",
        "-Listas\n",
        "\n",
        "-DIccionarios\n",
        "\n",
        "-Tuplas\n",
        "\n",
        "-Conjuntos"
      ]
    },
    {
      "cell_type": "markdown",
      "metadata": {
        "id": "srksrE3r_cwH"
      },
      "source": [
        "# slicing\n",
        "sintaxis\n",
        "[inicio : stop : incremento]\n",
        "\n",
        "Valores por defecto [0 : longitud de la lista : 1]"
      ]
    },
    {
      "cell_type": "code",
      "metadata": {
        "id": "zeNdWvHX_0cK",
        "outputId": "1ba42258-41c6-4e75-e555-252c08d06e1a",
        "colab": {
          "base_uri": "https://localhost:8080/",
          "height": 170
        }
      },
      "source": [
        "#Selector de elementos en un string\n",
        "print(nueva[0])\n",
        "nueva = nueva.strip()\n",
        "print(nueva[len(nueva) -1]) #indexado negativo\n",
        "print(nueva[-2])\n",
        "\n",
        "#slicing\n",
        "print(nueva)\n",
        "print(nueva[12 : 20 : 1])\n",
        "print(nueva[-6 :   : 1])\n",
        "\n",
        "#cadena al revés\n",
        "print(nueva[-1 :   : -1])\n",
        "\n",
        "#mexico al revés con slicing\n",
        "print(nueva[-1 : -7 : -1])\n",
        "\n",
        "print(nueva[:4:])"
      ],
      "execution_count": 28,
      "outputs": [
        {
          "output_type": "stream",
          "text": [
            "u\n",
            "o\n",
            "c\n",
            "universidad  nacional  autonoma  de  mexico\n",
            " naciona\n",
            "mexico\n",
            "ocixem  ed  amonotua  lanoican  dadisrevinu\n",
            "ocixem\n",
            "univ\n"
          ],
          "name": "stdout"
        }
      ]
    },
    {
      "cell_type": "markdown",
      "metadata": {
        "id": "PWsNE-OsE1BS"
      },
      "source": [
        "#Bool"
      ]
    },
    {
      "cell_type": "code",
      "metadata": {
        "id": "YlyDyKKZERBs",
        "outputId": "467b3fd9-3d7e-4b45-d610-9fb0cebf2d60",
        "colab": {
          "base_uri": "https://localhost:8080/",
          "height": 85
        }
      },
      "source": [
        "print(bool(0))\n",
        "print(bool(64892))\n",
        "flag = 0\n",
        "print(bool(flag))\n",
        "print(True)"
      ],
      "execution_count": 30,
      "outputs": [
        {
          "output_type": "stream",
          "text": [
            "False\n",
            "True\n",
            "False\n",
            "True\n"
          ],
          "name": "stdout"
        }
      ]
    },
    {
      "cell_type": "markdown",
      "metadata": {
        "id": "hqssnaUJE6J3"
      },
      "source": [
        "#Comentarios\n",
        "\n",
        "Para un comentario de una línea se usa \"#\"\n",
        "\n",
        "Para un comentario de múltiple línea se utiliza \"\"\"\n"
      ]
    },
    {
      "cell_type": "code",
      "metadata": {
        "id": "1J1IecEmFRIo",
        "outputId": "57090569-bb69-4e59-eda9-39f2331c059c",
        "colab": {
          "base_uri": "https://localhost:8080/",
          "height": 35
        }
      },
      "source": [
        "#Este es un comeltario de línea simple\n",
        "\n",
        "\"\"\"\n",
        "Este \n",
        "  es\n",
        "    un\n",
        "      comentario\n",
        "        de\n",
        "          múltiple\n",
        "            línea\n",
        "\"\"\""
      ],
      "execution_count": 32,
      "outputs": [
        {
          "output_type": "execute_result",
          "data": {
            "application/vnd.google.colaboratory.intrinsic+json": {
              "type": "string"
            },
            "text/plain": [
              "'\\nEste \\n  es\\n    un\\n      comentario\\n        de\\n          múltiple\\n            línea\\n'"
            ]
          },
          "metadata": {
            "tags": []
          },
          "execution_count": 32
        }
      ]
    },
    {
      "cell_type": "markdown",
      "metadata": {
        "id": "WxfM3HQAFrZS"
      },
      "source": [
        "#función print\n",
        "\n",
        "Hay cuatro formas de utilizar print:\n",
        "\n",
        "1.Usando comas\n",
        "\n",
        "2.Usando signo +\n",
        "\n",
        "3.Usando la función format de la clase string\n",
        "\n",
        "4.Con el operador f\"\""
      ]
    },
    {
      "cell_type": "code",
      "metadata": {
        "id": "U8aBftiHFyIK",
        "outputId": "6ae98294-75ed-48aa-be91-93ca670c496a",
        "colab": {
          "base_uri": "https://localhost:8080/",
          "height": 68
        }
      },
      "source": [
        "#Con comas\n",
        "cantidad = 2\n",
        "precio_cheetos = 8\n",
        "precio_fanta = 12\n",
        "\n",
        "print(cantidad, precio_cheetos, precio_fanta)\n",
        "\n",
        "#Con sigo más (solo opera con string)\n",
        "print(\"hola\" + \"mundo\")\n",
        "print(str(cantidad) + str(precio_cheetos) + str(precio_fanta))\n"
      ],
      "execution_count": 37,
      "outputs": [
        {
          "output_type": "stream",
          "text": [
            "2 8 12\n",
            "holamundo\n",
            "2812\n"
          ],
          "name": "stdout"
        }
      ]
    }
  ]
}