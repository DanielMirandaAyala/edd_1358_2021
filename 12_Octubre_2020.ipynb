{
  "nbformat": 4,
  "nbformat_minor": 0,
  "metadata": {
    "colab": {
      "name": "Untitled4.ipynb",
      "provenance": [],
      "authorship_tag": "ABX9TyPloTAhqFjob3CGmz4OahCC",
      "include_colab_link": true
    },
    "kernelspec": {
      "name": "python3",
      "display_name": "Python 3"
    }
  },
  "cells": [
    {
      "cell_type": "markdown",
      "metadata": {
        "id": "view-in-github",
        "colab_type": "text"
      },
      "source": [
        "<a href=\"https://colab.research.google.com/github/DanielMirandaAyala/edd_1358_2021/blob/edd_1358_2021/12_Octubre_2020.ipynb\" target=\"_parent\"><img src=\"https://colab.research.google.com/assets/colab-badge.svg\" alt=\"Open In Colab\"/></a>"
      ]
    },
    {
      "cell_type": "code",
      "metadata": {
        "id": "jmQWLkPzWASq",
        "outputId": "90d143bc-8688-4b61-b67d-073ee2f3ec85",
        "colab": {
          "base_uri": "https://localhost:8080/",
          "height": 105
        }
      },
      "source": [
        "#diccionarios continuación\n",
        "cliente_banco = {\n",
        "        \"id\":1,\n",
        "        \"nombres\" : [\"Juan\",\"Antonio\"],\n",
        "        \"paterno\": \"García\",\n",
        "        \"materno\": \"Pérez\",\n",
        "        \"telefonos\": {\n",
        "                \"casa\":55667788,\n",
        "                \"celular\":5544332211,\n",
        "                \"trabajo\":556622311,\n",
        "                },\n",
        "        \"activo\": True,\n",
        "        \"balance\": 234567.89,\n",
        "        \"tarjetas\": ({\"tipo\":\"débito\",\"saldo\":12000},{\"tipo\":\"crédito\",\"saldo\":3500})\n",
        "\n",
        "        }\n",
        "print(cliente_banco)\n",
        "cliente_banco[\"balance\"] = cliente_banco[\"balance\"] -1000.89\n",
        "#print[\"balance\"] -= 1000.89\n",
        "print(cliente_banco)\n",
        "cliente_banco[\"tarjetas\"] = ({\"tipo\":\"débito\",\"saldo\":12000},\n",
        "                             {\"tipo\":\"crédito\",\"saldo\":35000},\n",
        "                             {\"tipo\":\"crédito\",\"nivel\":\"oro\",\"saldo\":\"50000\"},)\n",
        "print(cliente_banco)\n",
        "cliente_banco[\"dirección\"] = {\"calle\":\"rancho seco\",\"num\":23}\n",
        "print(cliente_banco)\n",
        "\n"
      ],
      "execution_count": 31,
      "outputs": [
        {
          "output_type": "stream",
          "text": [
            "{'id': 1, 'nombres': ['Juan', 'Antonio'], 'paterno': 'García', 'materno': 'Pérez', 'telefonos': {'casa': 55667788, 'celular': 5544332211, 'trabajo': 556622311}, 'activo': True, 'balance': 234567.89, 'tarjetas': ({'tipo': 'débito', 'saldo': 12000}, {'tipo': 'crédito', 'saldo': 3500})}\n",
            "{'id': 1, 'nombres': ['Juan', 'Antonio'], 'paterno': 'García', 'materno': 'Pérez', 'telefonos': {'casa': 55667788, 'celular': 5544332211, 'trabajo': 556622311}, 'activo': True, 'balance': 233567.0, 'tarjetas': ({'tipo': 'débito', 'saldo': 12000}, {'tipo': 'crédito', 'saldo': 3500})}\n",
            "{'id': 1, 'nombres': ['Juan', 'Antonio'], 'paterno': 'García', 'materno': 'Pérez', 'telefonos': {'casa': 55667788, 'celular': 5544332211, 'trabajo': 556622311}, 'activo': True, 'balance': 233567.0, 'tarjetas': ({'tipo': 'débito', 'saldo': 12000}, {'tipo': 'crédito', 'saldo': 35000}, {'tipo': 'crédito', 'nivel': 'oro', 'saldo': '50000'})}\n",
            "{'id': 1, 'nombres': ['Juan', 'Antonio'], 'paterno': 'García', 'materno': 'Pérez', 'telefonos': {'casa': 55667788, 'celular': 5544332211, 'trabajo': 556622311}, 'activo': True, 'balance': 233567.0, 'tarjetas': ({'tipo': 'débito', 'saldo': 12000}, {'tipo': 'crédito', 'saldo': 35000}, {'tipo': 'crédito', 'nivel': 'oro', 'saldo': '50000'}), 'dirección': {'calle': 'rancho seco', 'num': 23}}\n"
          ],
          "name": "stdout"
        }
      ]
    },
    {
      "cell_type": "code",
      "metadata": {
        "id": "G4ZJsLEkcdeI",
        "outputId": "7c360969-b5f1-44c8-eb45-d3591407dfbd",
        "colab": {
          "base_uri": "https://localhost:8080/",
          "height": 394
        }
      },
      "source": [
        "llaves = cliente_banco.keys()\n",
        "print(llaves)\n",
        "print(type(llaves))\n",
        "for x in llaves:\n",
        "    print(x),\n",
        "\n",
        "valores = cliente_banco.values()\n",
        "for v in valores:\n",
        "    print(v),\n",
        "\n",
        "pares = cliente_banco.items()\n",
        "print(pares)\n",
        "\n",
        "#for elem in pares:\n",
        "    #print(f\"{elem[0] = elem[1]}\")"
      ],
      "execution_count": 59,
      "outputs": [
        {
          "output_type": "stream",
          "text": [
            "dict_keys(['id', 'nombres', 'paterno', 'materno', 'telefonos', 'activo', 'balance', 'tarjetas', 'dirección'])\n",
            "<class 'dict_keys'>\n",
            "id\n",
            "nombres\n",
            "paterno\n",
            "materno\n",
            "telefonos\n",
            "activo\n",
            "balance\n",
            "tarjetas\n",
            "dirección\n",
            "1\n",
            "['Juan', 'Antonio']\n",
            "García\n",
            "Pérez\n",
            "{'casa': 55667788, 'celular': 5544332211, 'trabajo': 556622311}\n",
            "True\n",
            "233567.0\n",
            "({'tipo': 'débito', 'saldo': 12000}, {'tipo': 'crédito', 'saldo': 35000}, {'tipo': 'crédito', 'nivel': 'oro', 'saldo': '50000'})\n",
            "{'calle': 'rancho seco', 'num': 23}\n",
            "dict_items([('id', 1), ('nombres', ['Juan', 'Antonio']), ('paterno', 'García'), ('materno', 'Pérez'), ('telefonos', {'casa': 55667788, 'celular': 5544332211, 'trabajo': 556622311}), ('activo', True), ('balance', 233567.0), ('tarjetas', ({'tipo': 'débito', 'saldo': 12000}, {'tipo': 'crédito', 'saldo': 35000}, {'tipo': 'crédito', 'nivel': 'oro', 'saldo': '50000'})), ('dirección', {'calle': 'rancho seco', 'num': 23})])\n"
          ],
          "name": "stdout"
        }
      ]
    },
    {
      "cell_type": "code",
      "metadata": {
        "id": "i0vEV7B9hASG"
      },
      "source": [
        "frutas = {\"nombre\":\"manzana\",\n",
        "          \"color\":\"rojo\",\n",
        "          \"estado\":\"chihuahua\",}\n",
        "#otras_caracteristicas = {\"vitamina\" = \"D\"}\n",
        "#fruta.update(otras_caracteristicas)\n",
        "print(frutas)"
      ],
      "execution_count": null,
      "outputs": []
    },
    {
      "cell_type": "markdown",
      "metadata": {
        "id": "aOYw603PiQ27"
      },
      "source": [
        "# Funciones\n",
        "\n",
        "Recibe de 0 a n valores de entrada y regresa un sólo valor, aunque el valor sea nulo.\n",
        "\n",
        "Cuenta con un nombre único en el contexto\n",
        "\n",
        "Se pueden hacer dos cosas con las funciones, la primera de ellas es definirla y la segunda es llamarla"
      ]
    },
    {
      "cell_type": "code",
      "metadata": {
        "id": "96EKvzvLi7VG",
        "outputId": "84ea8e8b-f373-4cc7-e18f-457484ca7906",
        "colab": {
          "base_uri": "https://localhost:8080/",
          "height": 51
        }
      },
      "source": [
        "def suma(a,b):\n",
        "    return a+b\n",
        "\n",
        "#def suma(x,y):\n",
        "#    return None\n",
        "\n",
        "def saludar():\n",
        "    print(\"Hola, que hay?\")\n",
        "    return None\n",
        "\n",
        "x = 10\n",
        "y = 20\n",
        "c = suma(x,y)\n",
        "\n",
        "print(c)\n",
        "saludar()"
      ],
      "execution_count": 53,
      "outputs": [
        {
          "output_type": "stream",
          "text": [
            "30\n",
            "Hola, que hay?\n"
          ],
          "name": "stdout"
        }
      ]
    },
    {
      "cell_type": "markdown",
      "metadata": {
        "id": "5E_Yv_67k0rV"
      },
      "source": [
        "# None y las funciones\n",
        "Aprovechar el uso de none  en paso de parámetros"
      ]
    },
    {
      "cell_type": "code",
      "metadata": {
        "id": "YBkRijzNk-7q"
      },
      "source": [
        "def calcular(base,veces):\n",
        "    if base != None:\n",
        "        resultado = base  *veces\n",
        "    else:\n",
        "        return resultado = \"desconocido\"\n",
        "    return resultado\n",
        "\n",
        "print(calcular(3,4))\n",
        "print(calcular(None,4))"
      ],
      "execution_count": null,
      "outputs": []
    }
  ]
}