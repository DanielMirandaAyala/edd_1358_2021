{
  "nbformat": 4,
  "nbformat_minor": 0,
  "metadata": {
    "colab": {
      "name": "Untitled43.ipynb",
      "provenance": [],
      "authorship_tag": "ABX9TyO674HA4oAfteO4vtBiTBL5",
      "include_colab_link": true
    },
    "kernelspec": {
      "name": "python3",
      "display_name": "Python 3"
    }
  },
  "cells": [
    {
      "cell_type": "markdown",
      "metadata": {
        "id": "view-in-github",
        "colab_type": "text"
      },
      "source": [
        "<a href=\"https://colab.research.google.com/github/DanielMirandaAyala/edd_1358_2021/blob/edd_1358_2021/Tarea_10.ipynb\" target=\"_parent\"><img src=\"https://colab.research.google.com/assets/colab-badge.svg\" alt=\"Open In Colab\"/></a>"
      ]
    },
    {
      "cell_type": "code",
      "metadata": {
        "colab": {
          "base_uri": "https://localhost:8080/"
        },
        "id": "4ClO5UIRfjoR",
        "outputId": "c5312a83-7887-4c6d-ce50-58ed5a610b01"
      },
      "source": [
        "def SumaRecursividad( n ):\r\n",
        "    sum = 0\r\n",
        "    for x in n:\r\n",
        "        sum = sum+x\r\n",
        "    return sum\r\n",
        "    print(SumaRecursividad([1,2,3,4,5,6,7,8,9,10]))\r\n",
        "\r\n",
        "def Contador(n):\r\n",
        "    while n >= 0:\r\n",
        "        print(n)\r\n",
        "        n = n-1\r\n",
        "        if n == 0:\r\n",
        "            print(\"Fin de la cuenta\")\r\n",
        "            break\r\n",
        "\r\n",
        "Contador(10)"
      ],
      "execution_count": 12,
      "outputs": [
        {
          "output_type": "stream",
          "text": [
            "10\n",
            "9\n",
            "8\n",
            "7\n",
            "6\n",
            "5\n",
            "4\n",
            "3\n",
            "2\n",
            "1\n",
            "Fin de la cuenta\n"
          ],
          "name": "stdout"
        }
      ]
    },
    {
      "cell_type": "code",
      "metadata": {
        "id": "9q789UxRfrda"
      },
      "source": [
        "class Stack:\r\n",
        "    def __init__( self ):\r\n",
        "        self.__data = []\r\n",
        "        self.__size = 0\r\n",
        "\r\n",
        "    def pop( self ):\r\n",
        "        self.__size -=1\r\n",
        "        return self.__data.pop()\r\n",
        "\r\n",
        "    def get_size( self ):\r\n",
        "        return self.__size\r\n",
        "\r\n",
        "    def peek( self ):\r\n",
        "        return self.__data[-1]\r\n",
        "\r\n",
        "    def push (self, value ):\r\n",
        "        self.__size +=1\r\n",
        "        return self.__data.append( value )\r\n",
        "\r\n",
        "    def to_string( self ):\r\n",
        "        print(\"-------\")\r\n",
        "        for dato in self.__data[ : :-1]:\r\n",
        "            print( f\"| { dato } |\")\r\n",
        "            print(\"-------\")"
      ],
      "execution_count": 13,
      "outputs": []
    },
    {
      "cell_type": "code",
      "metadata": {
        "id": "_oju82exf_be"
      },
      "source": [
        "def ValorMedio( Vm ):\r\n",
        "    Aux = Stack()\r\n",
        "    pm = (Vm.get_size())/2\r\n",
        "    res = (Vm.get_size())%2\r\n",
        "    cont = 0\r\n",
        "    a = 0\r\n",
        "    if res == 1:\r\n",
        "        pm = pm-0.5\r\n",
        "    while (pm != 0):\r\n",
        "        Aux.push(n.pop())\r\n",
        "        pm = pm -1\r\n",
        "        cont = cont+1\r\n",
        "  \r\n",
        "    a = Vm.pop()\r\n",
        "    while (cont != 0):\r\n",
        "        n.push(Aux.pop())\r\n",
        "        cont = cont -1\r\n",
        "  \r\n",
        "    return a"
      ],
      "execution_count": 11,
      "outputs": []
    },
    {
      "cell_type": "code",
      "metadata": {
        "colab": {
          "base_uri": "https://localhost:8080/"
        },
        "id": "kRQ5cH3yjNEr",
        "outputId": "45864226-5bb4-4817-a72c-1841dfb3824a"
      },
      "source": [
        "pila = Stack()\r\n",
        "pila.push(10)\r\n",
        "pila.push(20)\r\n",
        "pila.push(30)\r\n",
        "pila.push(40)\r\n",
        "pila.push(50)\r\n",
        "pila.push(60)\r\n",
        "pila.push(70)\r\n",
        "pila.to_string()\r\n",
        "print(\"El valor medio es: \")\r\n",
        "print(ValorMedio(pila))\r\n",
        "print(\"Pila actual: \")\r\n",
        "pila.to_string()\r\n",
        "print(\"Valor medio: \")\r\n",
        "print(ValorMedio(pila))"
      ],
      "execution_count": 10,
      "outputs": [
        {
          "output_type": "stream",
          "text": [
            "-------\n",
            "| 70 |\n",
            "-------\n",
            "| 60 |\n",
            "-------\n",
            "| 50 |\n",
            "-------\n",
            "| 40 |\n",
            "-------\n",
            "| 30 |\n",
            "-------\n",
            "| 20 |\n",
            "-------\n",
            "| 10 |\n",
            "-------\n",
            "El valor medio es: \n",
            "40\n",
            "Pila actual: \n",
            "-------\n",
            "| 70 |\n",
            "-------\n",
            "| 60 |\n",
            "-------\n",
            "| 50 |\n",
            "-------\n",
            "| 30 |\n",
            "-------\n",
            "| 20 |\n",
            "-------\n",
            "| 10 |\n",
            "-------\n",
            "Valor medio: \n",
            "30\n"
          ],
          "name": "stdout"
        }
      ]
    }
  ]
}