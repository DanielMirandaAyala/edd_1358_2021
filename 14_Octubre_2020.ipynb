{
  "nbformat": 4,
  "nbformat_minor": 0,
  "metadata": {
    "colab": {
      "name": "Untitled5.ipynb",
      "provenance": [],
      "authorship_tag": "ABX9TyO3CtaORcnaHhM2KG1kjj46",
      "include_colab_link": true
    },
    "kernelspec": {
      "name": "python3",
      "display_name": "Python 3"
    }
  },
  "cells": [
    {
      "cell_type": "markdown",
      "metadata": {
        "id": "view-in-github",
        "colab_type": "text"
      },
      "source": [
        "<a href=\"https://colab.research.google.com/github/DanielMirandaAyala/edd_1358_2021/blob/master/14_Octubre_2020.ipynb\" target=\"_parent\"><img src=\"https://colab.research.google.com/assets/colab-badge.svg\" alt=\"Open In Colab\"/></a>"
      ]
    },
    {
      "cell_type": "markdown",
      "metadata": {
        "id": "7e0nZhvRrM83"
      },
      "source": [
        "#Funciones"
      ]
    },
    {
      "cell_type": "code",
      "metadata": {
        "id": "Mk-4LbE7pIFu",
        "outputId": "e779f835-adf8-4290-f5c0-be19ba9e3581",
        "colab": {
          "base_uri": "https://localhost:8080/",
          "height": 85
        }
      },
      "source": [
        "def calcular(a, b, c):\n",
        "    x = a + (b / c)\n",
        "    return x\n",
        "\n",
        "print(calcular(5, 9, 3))\n",
        "print(calcular(5, 3, 9))    #El resultado es distinto debido al posicionamiento de los números\n",
        "print(calcular(a = 5, c = 3, b = 9))    #Se pueden acomodar valores si se colocan al llamar a la función\n",
        "\n",
        "def calcular_v2(a = 10, b = 20, c = 5): #Aquí se declaran las variables desde la creación de la función\n",
        "    x = a + (b / c)\n",
        "    return x\n",
        "\n",
        "print(calcular_v2(40))  #se modificó \"a\"\n",
        "#Si no de declaran todas las posiciones o asignaciones explícitas no compila (no se pueden combinar)\n"
      ],
      "execution_count": 6,
      "outputs": [
        {
          "output_type": "stream",
          "text": [
            "8.0\n",
            "5.333333333333333\n",
            "8.0\n",
            "44.0\n"
          ],
          "name": "stdout"
        }
      ]
    },
    {
      "cell_type": "markdown",
      "metadata": {
        "id": "Xit28B8Grvga"
      },
      "source": [
        "#Argumentos a funciones por tupla \n",
        "Se envían los argumentos en un conjunto de elementos dentro de la tupla\n"
      ]
    },
    {
      "cell_type": "code",
      "metadata": {
        "id": "4EW5m7-Ir8bV",
        "outputId": "c2bc375d-bfdb-43bc-fd6e-3c48d5f351e3",
        "colab": {
          "base_uri": "https://localhost:8080/",
          "height": 51
        }
      },
      "source": [
        "def calculo(*elem ): #Con el asterisco señalamos que va a recibir una tupla\n",
        "    print(elem)\n",
        "    x = elem[0] + (elem[1] / elem[2])\n",
        "    return x\n",
        "\n",
        "print(calculo(5, 9, 3))"
      ],
      "execution_count": 9,
      "outputs": [
        {
          "output_type": "stream",
          "text": [
            "(5, 9, 3)\n",
            "8.0\n"
          ],
          "name": "stdout"
        }
      ]
    },
    {
      "cell_type": "markdown",
      "metadata": {
        "id": "NN5QboA_sxW5"
      },
      "source": [
        "#Argumentos como diccionario"
      ]
    },
    {
      "cell_type": "code",
      "metadata": {
        "id": "yGz_M0cxs2O6",
        "outputId": "6d6ebc03-44f9-4a91-f3c2-621e169bb99b",
        "colab": {
          "base_uri": "https://localhost:8080/",
          "height": 51
        }
      },
      "source": [
        "def calculo (**elem):   #Aquí se define con doble asterisco\n",
        "    print(elem)\n",
        "    x = elem['a'] + (elem['b'] / elem['c'])\n",
        "    return x\n",
        "\n",
        "print(calculo(a = 5, b = 9, c = 3))"
      ],
      "execution_count": 12,
      "outputs": [
        {
          "output_type": "stream",
          "text": [
            "{'a': 5, 'b': 9, 'c': 3}\n",
            "8.0\n"
          ],
          "name": "stdout"
        }
      ]
    },
    {
      "cell_type": "markdown",
      "metadata": {
        "id": "FeBrttbs2h_N"
      },
      "source": [
        "#Archivos\n",
        "-abrirlos\n",
        "\n",
        "Un string con la ruta del archivo\n",
        "\n",
        "Dos caracteres:\n",
        "\n",
        "----Apertura (r,w)\n",
        "\n",
        "----Formato (texto o binario)\n",
        "\n",
        "-leerlos\n",
        "\n",
        "-modificarlos"
      ]
    },
    {
      "cell_type": "code",
      "metadata": {
        "id": "9OBiVEyu3D6l"
      },
      "source": [
        "archivo = open('ejemplo.txt', 'wt')\n",
        "archivo.write(\"Hola mundo\")\n",
        "archivo.close()"
      ],
      "execution_count": 17,
      "outputs": []
    },
    {
      "cell_type": "code",
      "metadata": {
        "id": "hsgvr57X4pjN",
        "outputId": "6626e7f8-277b-4bc1-fcd5-1e0e675ef139",
        "colab": {
          "base_uri": "https://localhost:8080/",
          "height": 34
        }
      },
      "source": [
        "cat ejemplo.txt #Con el comando cat se libera el contenido y se muestra en consola"
      ],
      "execution_count": 18,
      "outputs": [
        {
          "output_type": "stream",
          "text": [
            "Hola mundo"
          ],
          "name": "stdout"
        }
      ]
    }
  ]
}