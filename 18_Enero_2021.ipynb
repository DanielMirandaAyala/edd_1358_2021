{
  "nbformat": 4,
  "nbformat_minor": 0,
  "metadata": {
    "colab": {
      "name": "Untitled42.ipynb",
      "provenance": [],
      "authorship_tag": "ABX9TyMSru8ZEZqPAMCFqx5CKIer",
      "include_colab_link": true
    },
    "kernelspec": {
      "name": "python3",
      "display_name": "Python 3"
    }
  },
  "cells": [
    {
      "cell_type": "markdown",
      "metadata": {
        "id": "view-in-github",
        "colab_type": "text"
      },
      "source": [
        "<a href=\"https://colab.research.google.com/github/DanielMirandaAyala/edd_1358_2021/blob/edd_1358_2021/18_Enero_2021.ipynb\" target=\"_parent\"><img src=\"https://colab.research.google.com/assets/colab-badge.svg\" alt=\"Open In Colab\"/></a>"
      ]
    },
    {
      "cell_type": "code",
      "metadata": {
        "id": "_oILeIkhR-YN"
      },
      "source": [
        "class NodoArbol:\r\n",
        "    def __init__( self, value, left = None, right = None ):\r\n",
        "        self.data = value\r\n",
        "        self.left = left\r\n",
        "        self.right = right"
      ],
      "execution_count": 1,
      "outputs": []
    },
    {
      "cell_type": "code",
      "metadata": {
        "id": "aTgBoKBfS6Wi"
      },
      "source": [
        "class ArbolBinarioBusqueda:\r\n",
        "  def __init__(self):\r\n",
        "    self.__root= None\r\n",
        "  \r\n",
        "  def insert(self, value):\r\n",
        "    if self.__root== None:\r\n",
        "      self.__root= NodoArbol(value)\r\n",
        "    else:\r\n",
        "      self.__insert__(self, self.__root, value)\r\n",
        "\r\n",
        "\r\n",
        "  def __insert__(self, nodo, value):#recursividad\r\n",
        "    if nodo.data == value:\r\n",
        "      print(\"El nodo ya existe, no se inserta: \", value)\r\n",
        "    elif value < nodo.data:\r\n",
        "      #ir a la izquierda\r\n",
        "      if nodo.left == None:\r\n",
        "        nodo.left= NodoArbol(value)\r\n",
        "      else:\r\n",
        "        self.__insert__(nodo.left, value)\r\n",
        "\r\n",
        "    else:\r\n",
        "      #ir a la derecha\r\n",
        "      if nodo.right == None:\r\n",
        "        nodo.right= NodoArbol(value)\r\n",
        "      else:\r\n",
        "        self.__insert__(nodo.right, value)"
      ],
      "execution_count": 2,
      "outputs": []
    },
    {
      "cell_type": "code",
      "metadata": {
        "id": "vBBgt3MtfnAV"
      },
      "source": [
        "abb = ArbolBinarioBusqueda()\r\n",
        "abb.insert( 40 )\r\n",
        "abb.insert( 40 )\r\n",
        "abb.insert( 30 )\r\n",
        "abb.insert( 30 )"
      ],
      "execution_count": null,
      "outputs": []
    }
  ]
}