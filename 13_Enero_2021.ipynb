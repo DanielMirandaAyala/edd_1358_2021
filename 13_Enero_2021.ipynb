{
  "nbformat": 4,
  "nbformat_minor": 0,
  "metadata": {
    "colab": {
      "name": "Untitled41.ipynb",
      "provenance": [],
      "authorship_tag": "ABX9TyO2U42PHaP3rnNv0kueuPWn",
      "include_colab_link": true
    },
    "kernelspec": {
      "name": "python3",
      "display_name": "Python 3"
    }
  },
  "cells": [
    {
      "cell_type": "markdown",
      "metadata": {
        "id": "view-in-github",
        "colab_type": "text"
      },
      "source": [
        "<a href=\"https://colab.research.google.com/github/DanielMirandaAyala/edd_1358_2021/blob/edd_1358_2021/13_Enero_2021.ipynb\" target=\"_parent\"><img src=\"https://colab.research.google.com/assets/colab-badge.svg\" alt=\"Open In Colab\"/></a>"
      ]
    },
    {
      "cell_type": "code",
      "metadata": {
        "colab": {
          "base_uri": "https://localhost:8080/"
        },
        "id": "EsZpxEcYk1ck",
        "outputId": "28417b97-d79a-4cd1-8c97-c82ad9678b8f"
      },
      "source": [
        "def factorial(n):\r\n",
        "    if n == 0:\r\n",
        "        return 1\r\n",
        "    else:\r\n",
        "        return factorial( n-1 ) * n\r\n",
        "\r\n",
        "for num in range(21):\r\n",
        "    print( factorial(num) )"
      ],
      "execution_count": 3,
      "outputs": [
        {
          "output_type": "stream",
          "text": [
            "1\n",
            "1\n",
            "2\n",
            "6\n",
            "24\n",
            "120\n",
            "720\n",
            "5040\n",
            "40320\n",
            "362880\n",
            "3628800\n",
            "39916800\n",
            "479001600\n",
            "6227020800\n",
            "87178291200\n",
            "1307674368000\n",
            "20922789888000\n",
            "355687428096000\n",
            "6402373705728000\n",
            "121645100408832000\n",
            "2432902008176640000\n"
          ],
          "name": "stdout"
        }
      ]
    },
    {
      "cell_type": "code",
      "metadata": {
        "colab": {
          "base_uri": "https://localhost:8080/"
        },
        "id": "ITh58QrNm9_k",
        "outputId": "ca24706c-5615-4302-ec42-c96643434da6"
      },
      "source": [
        "def printRev( n ):\r\n",
        "    if n > 0:\r\n",
        "        print( n )\r\n",
        "        printRev( n-1 )\r\n",
        "\r\n",
        "printRev( 3 )"
      ],
      "execution_count": 4,
      "outputs": [
        {
          "output_type": "stream",
          "text": [
            "3\n",
            "2\n",
            "1\n"
          ],
          "name": "stdout"
        }
      ]
    },
    {
      "cell_type": "code",
      "metadata": {
        "colab": {
          "base_uri": "https://localhost:8080/"
        },
        "id": "JxAVp_Rst3ne",
        "outputId": "3f2aed00-937e-4549-b37b-981f6a002619"
      },
      "source": [
        "def fibonacci(n):\r\n",
        "    if n==0:\r\n",
        "        return 0\r\n",
        "    elif n==1:\r\n",
        "        return 1\r\n",
        "    else:\r\n",
        "        return fibonacci(n-1)+n\r\n",
        "print( fibonacci(4) )\r\n",
        "for num in range( 4 ):\r\n",
        "    print( fibonacci(num+1) )"
      ],
      "execution_count": 5,
      "outputs": [
        {
          "output_type": "stream",
          "text": [
            "10\n",
            "1\n",
            "3\n",
            "6\n",
            "10\n"
          ],
          "name": "stdout"
        }
      ]
    },
    {
      "cell_type": "code",
      "metadata": {
        "id": "L_t8Z_cewrW2"
      },
      "source": [
        "class Nodo_Arbol:\r\n",
        "    def __init__( self , dato , hijo_izq=None , hijo_central=None , hijo_der=None):\r\n",
        "        self.dato = dato\r\n",
        "        self.hijo_izq = hijo_izq\r\n",
        "        self.hijo_der = hijo_der\r\n",
        "        self.hijo_central=  hijo_central\r\n",
        "\r\n",
        "arbol3 = Nodo_Arbol(\"R\" , Nodo_Arbol(\"I\" , None , Nodo_Arbol(\"X\")) , Nodo_Arbol(\"C\" , Nodo_Arbol(\"Y\")) , Nodo_Arbol(\"D\" , None , None , Nodo_Arbol(\"Z\")))"
      ],
      "execution_count": 6,
      "outputs": []
    }
  ]
}