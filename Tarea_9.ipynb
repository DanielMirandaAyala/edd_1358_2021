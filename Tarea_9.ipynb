{
  "nbformat": 4,
  "nbformat_minor": 0,
  "metadata": {
    "colab": {
      "name": "Untitled38.ipynb",
      "provenance": [],
      "authorship_tag": "ABX9TyO1InlyxTKuyp765QzHBr4m",
      "include_colab_link": true
    },
    "kernelspec": {
      "name": "python3",
      "display_name": "Python 3"
    }
  },
  "cells": [
    {
      "cell_type": "markdown",
      "metadata": {
        "id": "view-in-github",
        "colab_type": "text"
      },
      "source": [
        "<a href=\"https://colab.research.google.com/github/DanielMirandaAyala/edd_1358_2021/blob/edd_1358_2021/Tarea_9.ipynb\" target=\"_parent\"><img src=\"https://colab.research.google.com/assets/colab-badge.svg\" alt=\"Open In Colab\"/></a>"
      ]
    },
    {
      "cell_type": "code",
      "metadata": {
        "id": "jmuSWgQdQeln"
      },
      "source": [
        "class Queue:\r\n",
        "    def __init__(self):\r\n",
        "        self.__data= list()\r\n",
        "\r\n",
        "    def is_empty(self):\r\n",
        "        return len(self.__data)== 0\r\n",
        "\r\n",
        "    def lenght(self):\r\n",
        "        return len(self.__data)\r\n",
        "\r\n",
        "    def enqueue(self, item):\r\n",
        "        self.__data.append(item)\r\n",
        "\r\n",
        "    def dequeue(self):\r\n",
        "        if not self.is_empty():\r\n",
        "            return self.__data.pop(0)\r\n",
        "        else:\r\n",
        "            return None\r\n",
        "\r\n",
        "    def to_string(self):\r\n",
        "        cadena = \"\"\r\n",
        "        for elem in self.__data:\r\n",
        "            cadena = cadena + \" | \" + elem  \r\n",
        "        cadena = cadena + \" | \"\r\n",
        "        return cadena"
      ],
      "execution_count": 2,
      "outputs": []
    },
    {
      "cell_type": "code",
      "metadata": {
        "id": "ccANOv_yQmpq"
      },
      "source": [
        "class BoundedPriorityQueue:\r\n",
        "    def __init__( self , niveles ):\r\n",
        "        self.__data = [ Queue() for x in range(niveles) ]\r\n",
        "        self.__size = 0\r\n",
        "\r\n",
        "    def is_empty( self ):\r\n",
        "        return self.__size == 0\r\n",
        "    \r\n",
        "    def length( self ):\r\n",
        "        return self.__size\r\n",
        "    \r\n",
        "    def enqueue( self , prioridad , elem ):\r\n",
        "        if prioridad < len(self.__data) and prioridad >= 0:\r\n",
        "            self.__data[prioridad].enqueue(elem)\r\n",
        "            self.__size +=1\r\n",
        "        else:\r\n",
        "            print(f\"El elemento {elem} esta fuera de rango.\")\r\n",
        "    \r\n",
        "    def dequeue( self ):\r\n",
        "        if not self.is_empty():\r\n",
        "            nivel = 0\r\n",
        "            while self.__data[nivel].is_empty():\r\n",
        "                nivel += 1\r\n",
        "        elif self.is_empty(): \r\n",
        "            print(\"Fin de la cola\")\r\n",
        "            return self.__data[nivel].dequeue()\r\n",
        "\r\n",
        "    def dequeueAutomatico(self):\r\n",
        "        while not self.is_empty():\r\n",
        "            print(\"\")\r\n",
        "            self.dequeue()\r\n",
        "            self.to_string()\r\n",
        "    \r\n",
        "    def to_string( self ):\r\n",
        "        for nivel in range( len(self.__data) ):\r\n",
        "            print(f\" Nivel { nivel } --> { self.__data[nivel].to_string() } \")"
      ],
      "execution_count": 5,
      "outputs": []
    },
    {
      "cell_type": "code",
      "metadata": {
        "id": "28vgODm8R8Vv"
      },
      "source": [
        "barco = BoundedPriorityQueue(6)\r\n",
        "barco.enqueue(2,'Niños')\r\n",
        "barco.enqueue(4,'Mecánico')\r\n",
        "barco.enqueue(3,'Hombres')\r\n",
        "barco.enqueue(5,'Músicos')\r\n",
        "barco.enqueue(4,'Vigia')\r\n",
        "barco.enqueue(5,'Capitán')\r\n",
        "barco.enqueue(4,'Timonel')\r\n",
        "barco.enqueue(3,'Mujeres')\r\n",
        "barco.enqueue(2,'3ra edad')\r\n",
        "barco.enqueue(1,'Niñas')\r\n",
        "barco.to_string()\r\n",
        "barco.dequeueAutomatico()"
      ],
      "execution_count": null,
      "outputs": []
    }
  ]
}