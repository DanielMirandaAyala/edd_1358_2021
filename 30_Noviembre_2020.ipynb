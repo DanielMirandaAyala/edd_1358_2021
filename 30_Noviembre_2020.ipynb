{
  "nbformat": 4,
  "nbformat_minor": 0,
  "metadata": {
    "colab": {
      "name": "Untitled25.ipynb",
      "provenance": [],
      "authorship_tag": "ABX9TyOSbX4232QuEeMBtnSjjNEs",
      "include_colab_link": true
    },
    "kernelspec": {
      "name": "python3",
      "display_name": "Python 3"
    }
  },
  "cells": [
    {
      "cell_type": "markdown",
      "metadata": {
        "id": "view-in-github",
        "colab_type": "text"
      },
      "source": [
        "<a href=\"https://colab.research.google.com/github/DanielMirandaAyala/edd_1358_2021/blob/edd_1358_2021/30_Noviembre_2020.ipynb\" target=\"_parent\"><img src=\"https://colab.research.google.com/assets/colab-badge.svg\" alt=\"Open In Colab\"/></a>"
      ]
    },
    {
      "cell_type": "code",
      "metadata": {
        "id": "H7UmPlsy8pnl"
      },
      "source": [
        "class Stack:\n",
        "    def __init__(self):\n",
        "        self.__data = []\n",
        "        self.__size = 0\n",
        "    \n",
        "    def pop(self):\n",
        "        return self.__data.pop()\n",
        "    \n",
        "    def peek(self):\n",
        "        return self.__data[-1]\n",
        "    \n",
        "    def push(self, value):\n",
        "        self.__data.append(value)\n",
        "    \n",
        "    def to_string(self):\n",
        "        print(\"------\")\n",
        "        for dato in self.__data[::-1]:\n",
        "            print(f\"| {dato} |\")\n",
        "            print(\"------\")"
      ],
      "execution_count": 1,
      "outputs": []
    },
    {
      "cell_type": "code",
      "metadata": {
        "id": "NNpb1jlw9P_S"
      },
      "source": [
        "pl = Stack()\n",
        "pl.push(34)\n",
        "pl.push(10)\n",
        "pl.push(45)\n",
        "pl.push(4)\n",
        "pl.push(23)\n",
        "pl.push(33)\n",
        "valor = pl.pop()\n",
        "print(valor * 2)\n",
        "pl.to_string"
      ],
      "execution_count": null,
      "outputs": []
    },
    {
      "cell_type": "code",
      "metadata": {
        "id": "AWvFEtbJB3WI"
      },
      "source": [
        "#Aplicación de la estructura Stack\n",
        "#1.Validación de paréntesis balanceados '(' , '{' , '['\n",
        "cadena = \"()()()())\"\n",
        "pila = Stack\n",
        "pila.push('#')\n",
        "for elem in cadena:\n",
        "    if elem == \"(\":\n",
        "        pila.push(\"*\")\n",
        "    elif elem == \")\":\n",
        "        pila.pop()\n",
        "    else:\n",
        "        pass\n",
        "    if pila.peek() == '#':\n",
        "        print(\"la expresión esta balanceada en parentesis\")"
      ],
      "execution_count": null,
      "outputs": []
    }
  ]
}