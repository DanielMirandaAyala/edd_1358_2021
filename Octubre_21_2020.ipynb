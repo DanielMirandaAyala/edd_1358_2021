{
  "nbformat": 4,
  "nbformat_minor": 0,
  "metadata": {
    "colab": {
      "name": "Untitled1.ipynb",
      "provenance": [],
      "authorship_tag": "ABX9TyMY2LrFEMnPmUnNbnYPs6Ye",
      "include_colab_link": true
    },
    "kernelspec": {
      "name": "python3",
      "display_name": "Python 3"
    }
  },
  "cells": [
    {
      "cell_type": "markdown",
      "metadata": {
        "id": "view-in-github",
        "colab_type": "text"
      },
      "source": [
        "<a href=\"https://colab.research.google.com/github/DanielMirandaAyala/edd_1358_2021/blob/edd_1358_2021/Octubre_21_2020.ipynb\" target=\"_parent\"><img src=\"https://colab.research.google.com/assets/colab-badge.svg\" alt=\"Open In Colab\"/></a>"
      ]
    },
    {
      "cell_type": "code",
      "metadata": {
        "id": "YgUYwxegsFkm",
        "outputId": "68aece30-fd7f-4793-f3a3-e0dbe1cf3ff2",
        "colab": {
          "base_uri": "https://localhost:8080/",
          "height": 85
        }
      },
      "source": [
        "#Encapsulamiento tradicional\n",
        "class Smartphone:\n",
        "    def __init__(self, m):\n",
        "        self.__marca = m\n",
        "    \n",
        "    def set_marca(self, m):\n",
        "        self.__marca = m\n",
        "    \n",
        "    def get_marca(self):\n",
        "        return self.__marca\n",
        "    \n",
        "    def to_string(self):\n",
        "        return \"La marca del teléfono es: \" + self.__marca\n",
        "\n",
        "sp1 = Smartphone(\"Huawei\")\n",
        "print(sp1.to_string())\n",
        "\n",
        "sp1.__marca = \"iPhone X\"\n",
        "print(sp1.to_string())\n",
        "\n",
        "sp1.set_marca(\"Samsung\")\n",
        "print(sp1.to_string())\n",
        "\n",
        "print(sp1.get_marca()) #solo muestra el valor del atributo \"objeto\""
      ],
      "execution_count": 6,
      "outputs": [
        {
          "output_type": "stream",
          "text": [
            "La marca del teléfono es: Huawei\n",
            "La marca del teléfono es: Huawei\n",
            "La marca del teléfono es: Samsung\n",
            "Samsung\n"
          ],
          "name": "stdout"
        }
      ]
    },
    {
      "cell_type": "code",
      "metadata": {
        "id": "95cadBVTxXMg",
        "outputId": "1807cb46-d435-498e-d549-da1e8999e32c",
        "colab": {
          "base_uri": "https://localhost:8080/",
          "height": 119
        }
      },
      "source": [
        "#Encapsulamiento al estilo Python 3\n",
        "class Smartphone:\n",
        "    def __init__(self, m):\n",
        "        self.marca = m  #Llamando al método set\n",
        "\n",
        "    @property\n",
        "    def marca(self):    #Se declara get y declara self.__marca\n",
        "        #print(\"En el método get marca\") #Se comprueba que se está invocando un método\n",
        "        return self.__marca\n",
        "    \n",
        "    @marca.setter\n",
        "    def marca(self, m):\n",
        "      if m in [\"Lenovo\", \"Huawie\", \"IPhone\", \"Motorola\", \"Sony\", \"Xiaomi\"]:\n",
        "        self.__marca=m\n",
        "      else:\n",
        "        print(\"Asignacion no valida\")\n",
        "\n",
        "    def to_string(self):\n",
        "        return \"Marca: \" + self.marca\n",
        "\n",
        "sp2 = Smartphone(\"Xiaomi\")\n",
        "print(sp2.to_string())\n",
        "\n",
        "sp2.__marca = \"iPhone SE\"\n",
        "print(sp2.to_string())\n",
        "\n",
        "sp2.marca = \"Motorola\"  #Invocación del método set\n",
        "print(sp2.to_string())\n",
        "\n",
        "print(sp2.marca) #Invocación del método get\n",
        "\n",
        "sp2.marca = \"921jdnqlaj\"\n",
        "print(sp2.to_string())\n"
      ],
      "execution_count": 36,
      "outputs": [
        {
          "output_type": "stream",
          "text": [
            "Marca: Xiaomi\n",
            "Marca: Xiaomi\n",
            "Marca: Motorola\n",
            "Motorola\n",
            "Asignacion no valida\n",
            "Marca: Motorola\n"
          ],
          "name": "stdout"
        }
      ]
    },
    {
      "cell_type": "code",
      "metadata": {
        "id": "2G1J0ncZ5Jsn",
        "outputId": "7a50d65f-13c7-43b1-9c9e-e1faff34ebac",
        "colab": {
          "base_uri": "https://localhost:8080/",
          "height": 88
        }
      },
      "source": [
        "class TelefonoTrabajo(Smartphone):\n",
        "    def __init__(self, m):\n",
        "        self.marca = m\n",
        "\n",
        "sp3 = TelefonoTrabajo(\"Motorola\")\n",
        "print(dir(sp3))\n",
        "print(sp3.to_string())"
      ],
      "execution_count": 29,
      "outputs": [
        {
          "output_type": "stream",
          "text": [
            "['_Smartphone__marca', '__class__', '__delattr__', '__dict__', '__dir__', '__doc__', '__eq__', '__format__', '__ge__', '__getattribute__', '__gt__', '__hash__', '__init__', '__init_subclass__', '__le__', '__lt__', '__module__', '__ne__', '__new__', '__reduce__', '__reduce_ex__', '__repr__', '__setattr__', '__sizeof__', '__str__', '__subclasshook__', '__weakref__', 'marca', 'to_string']\n",
            "En el método get marca\n",
            "Marca: Motorola\n"
          ],
          "name": "stdout"
        }
      ]
    }
  ]
}