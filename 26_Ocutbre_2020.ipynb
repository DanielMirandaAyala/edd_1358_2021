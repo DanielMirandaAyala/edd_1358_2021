{
  "nbformat": 4,
  "nbformat_minor": 0,
  "metadata": {
    "colab": {
      "name": "26_Ocutbre_2020.ipynb",
      "provenance": [],
      "authorship_tag": "ABX9TyM5E6Hp1ADONuA2LdD9VOza",
      "include_colab_link": true
    },
    "kernelspec": {
      "name": "python3",
      "display_name": "Python 3"
    }
  },
  "cells": [
    {
      "cell_type": "markdown",
      "metadata": {
        "id": "view-in-github",
        "colab_type": "text"
      },
      "source": [
        "<a href=\"https://colab.research.google.com/github/DanielMirandaAyala/edd_1358_2021/blob/edd_1358_2021/26_Ocutbre_2020.ipynb\" target=\"_parent\"><img src=\"https://colab.research.google.com/assets/colab-badge.svg\" alt=\"Open In Colab\"/></a>"
      ]
    },
    {
      "cell_type": "code",
      "metadata": {
        "id": "_9KAG2ExpEqV",
        "outputId": "ab907be3-32da-4031-ef7a-58e23978eb33",
        "colab": {
          "base_uri": "https://localhost:8080/",
          "height": 34
        }
      },
      "source": [
        "\"\"\"\n",
        "Array\n",
        "\"\"\"\n",
        "class Array:    #Se puede heredar desde la clase \"object\"\n",
        "    def __init__(self, tam):\n",
        "        self.__datos = [0 for x in range(tam)]\n",
        "    \n",
        "    def get_item(self, index):\n",
        "        return self.__datos[index]\n",
        "\n",
        "mi_arreglo = Array(10)\n",
        "mi_arreglo.get_item(2)"
      ],
      "execution_count": 1,
      "outputs": [
        {
          "output_type": "execute_result",
          "data": {
            "text/plain": [
              "0"
            ]
          },
          "metadata": {
            "tags": []
          },
          "execution_count": 1
        }
      ]
    }
  ]
}