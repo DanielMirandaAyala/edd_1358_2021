{
  "nbformat": 4,
  "nbformat_minor": 0,
  "metadata": {
    "colab": {
      "name": "Untitled39.ipynb",
      "provenance": [],
      "authorship_tag": "ABX9TyPUct76ibo6H0E4D8hvGvut",
      "include_colab_link": true
    },
    "kernelspec": {
      "name": "python3",
      "display_name": "Python 3"
    }
  },
  "cells": [
    {
      "cell_type": "markdown",
      "metadata": {
        "id": "view-in-github",
        "colab_type": "text"
      },
      "source": [
        "<a href=\"https://colab.research.google.com/github/DanielMirandaAyala/edd_1358_2021/blob/edd_1358_2021/Tarea_8.ipynb\" target=\"_parent\"><img src=\"https://colab.research.google.com/assets/colab-badge.svg\" alt=\"Open In Colab\"/></a>"
      ]
    },
    {
      "cell_type": "code",
      "metadata": {
        "id": "TdxN9EAjUngp"
      },
      "source": [
        "class PriorityQueue:  \r\n",
        "    def __init__( self ):\r\n",
        "        self.__data = list()\r\n",
        "        self.__size = 0\r\n",
        "\r\n",
        "    def is_empty( self ):\r\n",
        "        return self.__size == 0\r\n",
        "\r\n",
        "    def length ( self ):\r\n",
        "        return self.__size\r\n",
        "\r\n",
        "    def enqueue ( self, prioridad, elemento):\r\n",
        "        if prioridad < 0:\r\n",
        "            print(\"Prioridad negativa, no es válida\")\r\n",
        "        else:\r\n",
        "            if prioridad >= len(self.__data):\r\n",
        "                for x in range(prioridad - len(self.__data)+1):\r\n",
        "                    self.__data.append(list())\r\n",
        "                self.__data[prioridad].append(elemento)\r\n",
        "                self.__size = self.__size + 1\r\n",
        "\r\n",
        "    def dequeue(self):\r\n",
        "        if not self.is_empty():\r\n",
        "            self.__size = self.__size - 1\r\n",
        "            return self.__data.pop(0)\r\n",
        "        else:\r\n",
        "            return None\r\n",
        "\r\n",
        "    def to_string( self ):\r\n",
        "        for elem in self.__data:\r\n",
        "            print(f\"| { elem } \", end=\"\")\r\n",
        "            print(\"|\")"
      ],
      "execution_count": 1,
      "outputs": []
    },
    {
      "cell_type": "code",
      "metadata": {
        "colab": {
          "base_uri": "https://localhost:8080/"
        },
        "id": "__OwkF84Uqui",
        "outputId": "207250f8-c903-47f0-e618-2a46f12bce22"
      },
      "source": [
        "barco = PriorityQueue()\r\n",
        "\r\n",
        "print(\"Lista vacía:\")\r\n",
        "print(barco.is_empty())\r\n",
        "print(\"--------------------\")\r\n",
        "\r\n",
        "print(\"Colocando elementos en la lista\")\r\n",
        "barco.enqueue(0,\"Embarazadas\")\r\n",
        "barco.enqueue(1,\"Personas de la tercera edad\")\r\n",
        "barco.enqueue(2,\"Discapacitados\")\r\n",
        "barco.enqueue(3,\"Bebes\")\r\n",
        "barco.enqueue(4,\"Mecánico\")\r\n",
        "barco.enqueue(5,\"Hombres\")\r\n",
        "barco.enqueue(8,\"Empleados\")\r\n",
        "barco.enqueue(7,\"Capitán\")\r\n",
        "print(\"--------------------\")\r\n",
        "\r\n",
        "print(\"Elementos existentes: \")\r\n",
        "print(barco.length())\r\n",
        "print(\"Los cuales son: \")\r\n",
        "barco.to_string()\r\n",
        "print(\"--------------------\")\r\n",
        "\r\n",
        "print(\"Modificamos el primer elemento: \")\r\n",
        "barco.dequeue()\r\n",
        "print(\"--------------------\")\r\n",
        "\r\n",
        "print(\"Cola sin el primer elemento: \")\r\n",
        "barco.to_string()"
      ],
      "execution_count": 2,
      "outputs": [
        {
          "output_type": "stream",
          "text": [
            "Lista vacía:\n",
            "True\n",
            "--------------------\n",
            "Colocando elementos en la lista\n",
            "--------------------\n",
            "Elementos existentes: \n",
            "7\n",
            "Los cuales son: \n",
            "| ['Embarazadas'] |\n",
            "| ['Personas de la tercera edad'] |\n",
            "| ['Discapacitados'] |\n",
            "| ['Bebes'] |\n",
            "| ['Mecánico'] |\n",
            "| ['Hombres'] |\n",
            "| [] |\n",
            "| [] |\n",
            "| ['Empleados'] |\n",
            "--------------------\n",
            "Modificamos el primer elemento: \n",
            "--------------------\n",
            "Cola sin el primer elemento: \n",
            "| ['Personas de la tercera edad'] |\n",
            "| ['Discapacitados'] |\n",
            "| ['Bebes'] |\n",
            "| ['Mecánico'] |\n",
            "| ['Hombres'] |\n",
            "| [] |\n",
            "| [] |\n",
            "| ['Empleados'] |\n"
          ],
          "name": "stdout"
        }
      ]
    }
  ]
}