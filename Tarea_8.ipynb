{
  "nbformat": 4,
  "nbformat_minor": 0,
  "metadata": {
    "colab": {
      "name": "Untitled36.ipynb",
      "provenance": [],
      "authorship_tag": "ABX9TyM42qLiw9daTb9SNc6tPVAf",
      "include_colab_link": true
    },
    "kernelspec": {
      "name": "python3",
      "display_name": "Python 3"
    }
  },
  "cells": [
    {
      "cell_type": "markdown",
      "metadata": {
        "id": "view-in-github",
        "colab_type": "text"
      },
      "source": [
        "<a href=\"https://colab.research.google.com/github/DanielMirandaAyala/edd_1358_2021/blob/edd_1358_2021/Tarea_8.ipynb\" target=\"_parent\"><img src=\"https://colab.research.google.com/assets/colab-badge.svg\" alt=\"Open In Colab\"/></a>"
      ]
    },
    {
      "cell_type": "code",
      "metadata": {
        "id": "tr07NBTIBo36"
      },
      "source": [
        "class PriorityQueue:  \r\n",
        "    def __init__( self ):\r\n",
        "        self.__data = list()\r\n",
        "        self.__size = 0\r\n",
        "\r\n",
        "    def is_empty( self ):\r\n",
        "        return self.__size == 0\r\n",
        "\r\n",
        "    def length ( self ):\r\n",
        "        return self.__size\r\n",
        "\r\n",
        "    def enqueue ( self, prioridad, elemento):\r\n",
        "        if prioridad < 0:\r\n",
        "            print(\"Prioridad negativa, no es válida\")\r\n",
        "        else:\r\n",
        "            if prioridad >= len(self.__data):\r\n",
        "                for x in range(prioridad - len(self.__data)+1):\r\n",
        "                    self.__data.append(list())\r\n",
        "                self.__data[prioridad].append(elemento)\r\n",
        "                self.__size = self.__size + 1\r\n",
        "\r\n",
        "    def dequeue(self):\r\n",
        "        if not self.is_empty():\r\n",
        "            self.__size = self.__size - 1\r\n",
        "            return self.__data.pop(0)\r\n",
        "        else:\r\n",
        "            return None\r\n",
        "\r\n",
        "    def to_string( self ):\r\n",
        "        for elem in self.__data:\r\n",
        "            print(f\"| { elem } \", end=\"\")\r\n",
        "            print(\"|\")"
      ],
      "execution_count": 2,
      "outputs": []
    },
    {
      "cell_type": "code",
      "metadata": {
        "colab": {
          "base_uri": "https://localhost:8080/"
        },
        "id": "66-nzCGXC3Ku",
        "outputId": "24b642b1-68d7-4438-9c48-c5a677fde2b2"
      },
      "source": [
        "prueba = PriorityQueue()\r\n",
        "\r\n",
        "print(\"Lista vacía:\")\r\n",
        "print(prueba.is_empty())\r\n",
        "print(\"--------------------\")\r\n",
        "\r\n",
        "print(\"Colocando elementos en la lista\")\r\n",
        "prueba.enqueue(0,\"Embarazadas\")\r\n",
        "prueba.enqueue(1,\"Personas de la tercera edad\")\r\n",
        "prueba.enqueue(2,\"Discapacitados\")\r\n",
        "prueba.enqueue(3,\"Bebes\")\r\n",
        "print(\"--------------------\")\r\n",
        "\r\n",
        "print(\"Elementos existentes: \")\r\n",
        "print(prueba.length())\r\n",
        "print(\"Los cuales son: \")\r\n",
        "prueba.to_string()\r\n",
        "print(\"--------------------\")\r\n",
        "\r\n",
        "print(\"Modificamos el primer elemento: \")\r\n",
        "prueba.dequeue()\r\n",
        "print(\"--------------------\")\r\n",
        "\r\n",
        "print(\"Cola sin el primer elemento: \")\r\n",
        "prueba.to_string()"
      ],
      "execution_count": 13,
      "outputs": [
        {
          "output_type": "stream",
          "text": [
            "Lista vacía:\n",
            "True\n",
            "--------------------\n",
            "Colocando elementos en la lista\n",
            "--------------------\n",
            "Elementos existentes: \n",
            "4\n",
            "Los cuales son: \n",
            "| ['Embarazadas'] |\n",
            "| ['Personas de la tercera edad'] |\n",
            "| ['Discapacitados'] |\n",
            "| ['Bebes'] |\n",
            "--------------------\n",
            "Modificamos el primer elemento: \n",
            "--------------------\n",
            "Cola sin el primer elemento: \n",
            "| ['Personas de la tercera edad'] |\n",
            "| ['Discapacitados'] |\n",
            "| ['Bebes'] |\n"
          ],
          "name": "stdout"
        }
      ]
    }
  ]
}