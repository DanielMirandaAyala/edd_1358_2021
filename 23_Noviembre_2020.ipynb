{
  "nbformat": 4,
  "nbformat_minor": 0,
  "metadata": {
    "colab": {
      "name": "Untitled18.ipynb",
      "provenance": [],
      "authorship_tag": "ABX9TyORXGOK3Bfe3xEukRiCAaXU",
      "include_colab_link": true
    },
    "kernelspec": {
      "name": "python3",
      "display_name": "Python 3"
    }
  },
  "cells": [
    {
      "cell_type": "markdown",
      "metadata": {
        "id": "view-in-github",
        "colab_type": "text"
      },
      "source": [
        "<a href=\"https://colab.research.google.com/github/DanielMirandaAyala/edd_1358_2021/blob/edd_1358_2021/23_Noviembre_2020.ipynb\" target=\"_parent\"><img src=\"https://colab.research.google.com/assets/colab-badge.svg\" alt=\"Open In Colab\"/></a>"
      ]
    },
    {
      "cell_type": "code",
      "metadata": {
        "id": "YInH25aO16tu"
      },
      "source": [
        "class Nodo:\n",
        "    def __init__( self , dato, siguiente=None ):\n",
        "        self.dato = dato\n",
        "        self.siguiente = siguiente\n",
        "\n",
        "class LinkedList:\n",
        "  def __init__ ( self ):\n",
        "    self.__head = None\n",
        "\n",
        "  def is_empty( self ):\n",
        "    return self.__head == None\n",
        "  \n",
        "  def tail( self ):\n",
        "    curr_node = self.__head\n",
        "    while curr_node != None and curr_node.siguiente != None:\n",
        "      curr_node = curr_node.siguiente\n",
        "    return curr_node\n",
        "\n",
        "  def append( self, value ):\n",
        "    nuevo = Nodo( value )\n",
        "    if self.__head == None:\n",
        "      self.__head = nuevo\n",
        "    else:\n",
        "      self.tail().siguiente = nuevo\n",
        "  \n",
        "  def transeversal(self ):\n",
        "    curr_node = self.__head\n",
        "    if curr_node == None:\n",
        "      print(\"Lista vacia\")\n",
        "    else:\n",
        "      while curr_node != None:\n",
        "        print(f\"{ curr_node.dato } --->\", end =\"\")\n",
        "        curr_node = curr_node.siguiente\n",
        "\n",
        "  def prepend( self, value ):\n",
        "    nuevo = Nodo( value )\n",
        "    \n",
        "    if self.__head == None:\n",
        "      self.__head == nuevo\n",
        "    else:\n",
        "      x = self.__head\n",
        "      self.__head = nuevo\n",
        "      nuevo.siguiente = x"
      ],
      "execution_count": 3,
      "outputs": []
    },
    {
      "cell_type": "code",
      "metadata": {
        "id": "Bw-zy-grG5hj"
      },
      "source": [
        "l = LinkedList()\n",
        "print(f\"l está vacía?=  {l.is_empty()}\")\n",
        "x = l.tail()\n",
        "print( x )\n",
        "l.append(10)\n",
        "l.append(20)\n",
        "l.append(30)\n",
        "l.append(40)\n",
        "l.transeversal( )\n",
        "l.prepend( 5 )\n",
        "print( \"\\n\" )\n",
        "l.transeversal()"
      ],
      "execution_count": null,
      "outputs": []
    }
  ]
}