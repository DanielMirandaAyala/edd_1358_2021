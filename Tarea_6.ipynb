{
  "nbformat": 4,
  "nbformat_minor": 0,
  "metadata": {
    "colab": {
      "name": "Untitled23.ipynb",
      "provenance": [],
      "authorship_tag": "ABX9TyOPHordN8sHXwiArIaTKCJA",
      "include_colab_link": true
    },
    "kernelspec": {
      "name": "python3",
      "display_name": "Python 3"
    }
  },
  "cells": [
    {
      "cell_type": "markdown",
      "metadata": {
        "id": "view-in-github",
        "colab_type": "text"
      },
      "source": [
        "<a href=\"https://colab.research.google.com/github/DanielMirandaAyala/edd_1358_2021/blob/edd_1358_2021/Tarea_6.ipynb\" target=\"_parent\"><img src=\"https://colab.research.google.com/assets/colab-badge.svg\" alt=\"Open In Colab\"/></a>"
      ]
    },
    {
      "cell_type": "code",
      "metadata": {
        "colab": {
          "base_uri": "https://localhost:8080/"
        },
        "id": "pHhAwiSp32cg",
        "outputId": "d216e433-3144-44ba-e438-ae09ca2992fa"
      },
      "source": [
        "class Nodo:\n",
        "    def __init__(self , dato, siguiente = None):\n",
        "        self.dato = dato\n",
        "        self.siguiente = siguiente\n",
        "        \n",
        "class Lista_Circular( ):\n",
        "\tdef __init__(self):\n",
        "\t\tself.__ref = None\n",
        "\t\tself.__size = 0\n",
        "\n",
        "\tdef is_empty(self):\n",
        "\t\treturn self.__size == 0\n",
        "\n",
        "\tdef insert(self, value):\n",
        "\t\t\n",
        "\t\tif self.__ref == None:\n",
        "\t\t\tself.__ref = Nodo(value)\n",
        "\n",
        "\t\telif value >= self.__ref.dato and self.__ref.siguiente == None:\n",
        "\t\t\tself.__ref.siguiente = Nodo(value,self.__ref)\n",
        "\t\t\tself.__ref = self.__ref.siguiente\n",
        "\n",
        "\t\telif value >= self.__ref.dato: \n",
        "\t\t\tself.__ref.siguiente = Nodo(value,self.__ref.siguiente)\n",
        "\t\t\tself.__ref = self.__ref.siguiente\n",
        "\n",
        "\t\telif value <= self.__ref.dato and self.__ref.siguiente == None:\n",
        "\t\t\tself.__ref.siguiente = Nodo(value,self.__ref)\n",
        "\n",
        "\t\telif value <= self.__ref.siguiente.dato:\n",
        "\t\t\tself.__ref.siguiente = Nodo(value,self.__ref.siguiente)\n",
        "\n",
        "\t\telse:\n",
        "\t\t\tcurr_node = self.__ref.siguiente\n",
        "\t\t\twhile curr_node.dato != self.__ref.dato:\n",
        "\t\t\t\tif value > curr_node.dato and value < curr_node.siguiente.dato:\n",
        "\t\t\t\t\tcurr_node.siguiente = Nodo(value,curr_node.siguiente)\n",
        "\t\t\t\tcurr_node = curr_node.siguiente\n",
        "\n",
        "\t\tself.__size += 1\n",
        "\n",
        "\tdef transversal(self):\n",
        "\t\tcurr_node = self.__ref.siguiente\n",
        "\t\tif self.__ref != None:\n",
        "\t\t\tif self.__ref.siguiente != None:\n",
        "\t\t\t\tfor i in range(self.__size):\n",
        "\t\t\t\t\tprint(curr_node.dato, \"-->\" , end = \"\")\n",
        "\t\t\t\t\tcurr_node = curr_node.siguiente\n",
        "\t\t\t\tprint('\\n')\n",
        "\t\t\telse:\n",
        "\t\t\t\tprint(self.__ref.dato, \"-->\" , end=\"\")\n",
        "\t\t\t\tprint('\\n')\n",
        "\t\telse:\n",
        "\t\t\tprint(\"Lista vacia\")\n",
        "\n",
        "\tdef search(self, value):\n",
        "\t\tcurr_node = self.__ref\n",
        "\t\tif self.__ref != None:\n",
        "\t\t\tfor i in range(self.__size):\n",
        "\t\t\t\tif curr_node.dato == value:\n",
        "\t\t\t\t\treturn True\n",
        "\t\t\t\tcurr_node = curr_node.siguiente\n",
        "\t\treturn False\n",
        "\n",
        "\tdef remove(self,value):\n",
        "\n",
        "\t\tcurr_node = self.__ref\n",
        "\t\tif self.__ref != None:\n",
        "\t\t\tfor i in range(self.__size):\n",
        "\t\t\t\tif curr_node.siguiente.dato == value:\n",
        "\t\t\t\t\tcurr_node.siguiente = curr_node.siguiente.siguiente\n",
        "\t\t\t\t\tself.__size -= 1\n",
        "\t\t\t\t\treturn None\n",
        "\t\t\t\telse:\n",
        "\t\t\t\t\tcurr_node = curr_node.siguiente\n",
        "\n",
        "obj = Lista_Circular()\n",
        "obj.insert(10)\n",
        "obj.transversal()\n",
        "obj.insert(20)\n",
        "obj.insert(30)\n",
        "obj.insert(40)\n",
        "obj.insert(50)\n",
        "obj.transversal()\n",
        "print(obj.search(15))\n",
        "print(obj.search(25))\n",
        "obj.remove(25)\n",
        "obj.remove(10)\n",
        "obj.remove(5)\n",
        "obj.transversal()"
      ],
      "execution_count": 6,
      "outputs": [
        {
          "output_type": "stream",
          "text": [
            "10 -->\n",
            "\n",
            "10 -->20 -->30 -->40 -->50 -->\n",
            "\n",
            "False\n",
            "False\n",
            "20 -->30 -->40 -->50 -->\n",
            "\n"
          ],
          "name": "stdout"
        }
      ]
    }
  ]
}