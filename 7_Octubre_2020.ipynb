{
  "nbformat": 4,
  "nbformat_minor": 0,
  "metadata": {
    "colab": {
      "name": "Untitled3.ipynb",
      "provenance": [],
      "authorship_tag": "ABX9TyOduZAzdGBszC+md2we3Tvb",
      "include_colab_link": true
    },
    "kernelspec": {
      "name": "python3",
      "display_name": "Python 3"
    }
  },
  "cells": [
    {
      "cell_type": "markdown",
      "metadata": {
        "id": "view-in-github",
        "colab_type": "text"
      },
      "source": [
        "<a href=\"https://colab.research.google.com/github/DanielMirandaAyala/edd_1358_2021/blob/edd_1358_2021/7_Octubre_2020.ipynb\" target=\"_parent\"><img src=\"https://colab.research.google.com/assets/colab-badge.svg\" alt=\"Open In Colab\"/></a>"
      ]
    },
    {
      "cell_type": "code",
      "metadata": {
        "id": "dUn_dsEIm0-q",
        "outputId": "055d8430-c70c-4110-fbf9-9fd61c842bc4",
        "colab": {
          "base_uri": "https://localhost:8080/"
        }
      },
      "source": [
        "#Listas multidimensión\n",
        "autos = [\"Mazda\",\"honda\",\"Akura\",\"Ford\",\"VW\"]\n",
        "telefonos = [\"iPhone\",\"Huawei Mate 30\", \"Xiaomi S10\",\"Alcatel t1000\"]\n",
        "sistemas_operativos = [ \"Windows\", \"Linux\" , \"Android\" , \"iOS\" ,\"MacOs\" ]\n",
        "procesadores = [[\"Intel\",3.1,True],[\"AMD\",2.7,False],[\"Motorola\",1.1,False]]\n",
        "\n",
        "lista_nd = [autos,telefonos,sistemas_operativos,procesadores]\n",
        "print(lista_2d)\n",
        "print(lista_2d[1][1])\n",
        "print(lista_nd[2][3])\n",
        "print(lista_nd[1][1][3:6])\n",
        "print(lista_nd[3][1][1])\n",
        "print(lista_nd[3][2][0][2:6])\n",
        "print(lista_nd[3][0][0][-2:-5:-1])\n",
        "\n",
        "#Concatenar listas\n",
        "colores = [\"rojo\",\"verde\",\"azul\",\"negro\"]\n",
        "flores = [\"margarita\",\"rosa\"]\n",
        "nueva = colores + flores\n",
        "print(nueva)\n",
        "print(colores)\n",
        "print(flores)\n",
        "\n",
        "#Concatenar listas con extends\n",
        "colores.extend(flores)\n",
        "print(colores)\n",
        "\n",
        "#Unpacking de listas\n",
        "datos_personales = [\"José\",\"Pérez\",\"Juárez\",22,1.67,True]\n",
        "nombre,parterno,materno,edad,estatura,fuma = datos_personales \n",
        "print(f\"Nombre: {nombre}\\nEdad: {edad}\")"
      ],
      "execution_count": 23,
      "outputs": [
        {
          "output_type": "stream",
          "text": [
            "[['Mazda', 'honda', 'Akura', 'Ford', 'VW'], ['iPhone', 'Huawei Mate 30', 'Xiaomi S10', 'Alcatel t1000'], ['Windows', 'Linux', 'Android', 'iOS', 'MacOs'], [['Intel', 3.1, True], ['AMD', 3.7, False], ['Motorola', 1.1, False]]]\n",
            "Huawei Mate 30\n",
            "iOS\n",
            "wei\n",
            "2.7\n",
            "toro\n",
            "etn\n",
            "['rojo', 'verde', 'azul', 'negro', 'margarita', 'rosa']\n",
            "['rojo', 'verde', 'azul', 'negro']\n",
            "['margarita', 'rosa']\n",
            "['rojo', 'verde', 'azul', 'negro', 'margarita', 'rosa']\n",
            "Nombre: José\n",
            "Edad: 22\n"
          ],
          "name": "stdout"
        }
      ]
    },
    {
      "cell_type": "code",
      "metadata": {
        "id": "uF1A0SuXuLHE",
        "outputId": "6aecfe17-ff0d-4c54-8ff6-f551261dfdde",
        "colab": {
          "base_uri": "https://localhost:8080/"
        }
      },
      "source": [
        "#Tuplas\n",
        "bd = ('127.0.0.1','root','toor','12345')\n",
        "# No se puede reemplazar ni agregar elementos (o manipular valores internos; ejemplo; bd[1] = 'user1 no sería válido'\n",
        "print(f\"usuario de la bd es: {bd[1]}\")\n",
        "print(bd[1:3])"
      ],
      "execution_count": 30,
      "outputs": [
        {
          "output_type": "stream",
          "text": [
            "usuario de la bd es: root\n",
            "('root', 'toor')\n"
          ],
          "name": "stdout"
        }
      ]
    },
    {
      "cell_type": "code",
      "metadata": {
        "id": "csJs_4iPwmmY",
        "outputId": "674ac227-412d-4987-943a-e28a9150de5a",
        "colab": {
          "base_uri": "https://localhost:8080/"
        }
      },
      "source": [
        "#Diccionarios\n",
        "alumno = {'nombre':'juan','edad':22,'carrera':\"'ICO\"}\n",
        "print(alumno)\n",
        "print(alumno['edad'])\n",
        "alumno = {\n",
        "    'nombre':'Juan',\n",
        "    'edad':22,\n",
        "    'carrera':'ICO',\n",
        "    'direccion':{'calle':\"bosques de africa\",\n",
        "                 'numero':33,\n",
        "                 'delegacion':'Nezahualcoyotl',\n",
        "                 'estado':15,\n",
        "                 'nombre_estado':'Mexico'}\n",
        "}\n",
        "print(alumno['direccion'])\n",
        "print(alumno['direccion']['delegacion'])\n",
        "print(alumno['direccion']['delegacion'][3:7])\n",
        "print(alumno['direccion']['delegacion'][3:7].upper())\n",
        "alumno['edad'] = 35\n",
        "print(alumno)\n",
        "alumno['promedio'] = 9.9\n",
        "print(alumno)\n",
        "alumno['direccion']['codigo_postal'] = 17170\n",
        "print(alumno)\n",
        "alumno['materia'] = {'nombre':'CyP','calificacion':10}\n",
        "print(alumno)\n",
        "\n",
        "cliente = {'id' = 1, 'nombre:':\"Carlos Slim\"}\n",
        "print(cliente)"
      ],
      "execution_count": 46,
      "outputs": [
        {
          "output_type": "stream",
          "text": [
            "{'nombre': 'juan', 'edad': 22, 'carrera': \"'ICO\"}\n",
            "22\n",
            "{'calle': 'bosques de africa', 'numero': 33, 'delegacion': 'Nezahualcoyotl', 'estado': 15, 'nombre_estado': 'Mexico'}\n",
            "Nezahualcoyotl\n",
            "ahua\n",
            "AHUA\n",
            "{'nombre': 'Juan', 'edad': 35, 'carrera': 'ICO', 'direccion': {'calle': 'bosques de africa', 'numero': 33, 'delegacion': 'Nezahualcoyotl', 'estado': 15, 'nombre_estado': 'Mexico'}}\n",
            "{'nombre': 'Juan', 'edad': 35, 'carrera': 'ICO', 'direccion': {'calle': 'bosques de africa', 'numero': 33, 'delegacion': 'Nezahualcoyotl', 'estado': 15, 'nombre_estado': 'Mexico'}, 'promedio': 9.9}\n",
            "{'nombre': 'Juan', 'edad': 35, 'carrera': 'ICO', 'direccion': {'calle': 'bosques de africa', 'numero': 33, 'delegacion': 'Nezahualcoyotl', 'estado': 15, 'nombre_estado': 'Mexico', 'codigo_postal': 17170}, 'promedio': 9.9}\n",
            "{'nombre': 'Juan', 'edad': 35, 'carrera': 'ICO', 'direccion': {'calle': 'bosques de africa', 'numero': 33, 'delegacion': 'Nezahualcoyotl', 'estado': 15, 'nombre_estado': 'Mexico', 'codigo_postal': 17170}, 'promedio': 9.9, 'materia': {'nombre': 'CyP', 'calificacion': 10}}\n"
          ],
          "name": "stdout"
        }
      ]
    }
  ]
}